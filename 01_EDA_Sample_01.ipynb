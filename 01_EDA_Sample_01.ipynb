{
  "nbformat": 4,
  "nbformat_minor": 0,
  "metadata": {
    "colab": {
      "name": "01. EDA_Sample_01",
      "provenance": [],
      "collapsed_sections": [],
      "authorship_tag": "ABX9TyOdEyCqjRthL6khPvApcDD0",
      "include_colab_link": true
    },
    "kernelspec": {
      "name": "ir",
      "display_name": "R"
    },
    "language_info": {
      "name": "R"
    }
  },
  "cells": [
    {
      "cell_type": "markdown",
      "metadata": {
        "id": "view-in-github",
        "colab_type": "text"
      },
      "source": [
        "<a href=\"https://colab.research.google.com/github/madia3/Basic_Statistics/blob/main/01_EDA_Sample_01.ipynb\" target=\"_parent\"><img src=\"https://colab.research.google.com/assets/colab-badge.svg\" alt=\"Open In Colab\"/></a>"
      ]
    },
    {
      "cell_type": "markdown",
      "source": [
        "# EDA/Graphics Example\n",
        "EDA의 중요성을 알 수 있는 간단한 예제를 살펴본다. (Anscombe Example)\n",
        "\n",
        "*source : https://www.itl.nist.gov/div898/handbook/eda/section1/eda16.htm"
      ],
      "metadata": {
        "id": "AlzoIDr2yj6Y"
      }
    },
    {
      "cell_type": "markdown",
      "source": [
        "### 0. 필요한 라이브러리 Load"
      ],
      "metadata": {
        "id": "ZkuKvOxf0CYe"
      }
    },
    {
      "cell_type": "code",
      "source": [
        "# 필요한 라이브러리 load\n",
        "library(tidyverse)\n",
        "install.packages('formattable')\n",
        "library(formattable)\n",
        "install.packages(\"patchwork\")\n",
        "library(patchwork)"
      ],
      "metadata": {
        "id": "xoxlohIu0GnM"
      },
      "execution_count": null,
      "outputs": []
    },
    {
      "cell_type": "markdown",
      "source": [
        "### 1. 데이터 불러오기"
      ],
      "metadata": {
        "id": "z96fM1NTzUoB"
      }
    },
    {
      "cell_type": "code",
      "source": [
        "# 데이터를 읽고, 변수명을 설정\n",
        "data <- read.table(\"https://www.itl.nist.gov/div898/handbook/datasets/ANSCOMBE.DAT\", header=FALSE, skip=25)\n",
        "names(data) = c(\"X1\", \"Y1\", \"X2\", \"Y2\", \"X3\", \"Y3\", \"X4\", \"Y4\")\n",
        "data"
      ],
      "metadata": {
        "colab": {
          "base_uri": "https://localhost:8080/",
          "height": 443
        },
        "id": "9jpy4sO8zcE8",
        "outputId": "b7cea4f3-638e-4bf4-9491-b08ac44c8358"
      },
      "execution_count": 102,
      "outputs": [
        {
          "output_type": "display_data",
          "data": {
            "text/plain": [
              "   X1 Y1    X2 Y2   X3 Y3    X4 Y4   \n",
              "1  10  8.04 10 9.14 10  7.46  8  6.58\n",
              "2   8  6.95  8 8.14  8  6.77  8  5.76\n",
              "3  13  7.58 13 8.74 13 12.74  8  7.71\n",
              "4   9  8.81  9 8.77  9  7.11  8  8.84\n",
              "5  11  8.33 11 9.26 11  7.81  8  8.47\n",
              "6  14  9.96 14 8.10 14  8.84  8  7.04\n",
              "7   6  7.24  6 6.13  6  6.08  8  5.25\n",
              "8   4  4.26  4 3.10  4  5.39 19 12.50\n",
              "9  12 10.84 12 9.13 12  8.15  8  5.56\n",
              "10  7  4.82  7 7.26  7  6.42  8  7.91\n",
              "11  5  5.68  5 4.74  5  5.73  8  6.89"
            ],
            "text/latex": "A data.frame: 11 × 8\n\\begin{tabular}{llllllll}\n X1 & Y1 & X2 & Y2 & X3 & Y3 & X4 & Y4\\\\\n <dbl> & <dbl> & <dbl> & <dbl> & <dbl> & <dbl> & <dbl> & <dbl>\\\\\n\\hline\n\t 10 &  8.04 & 10 & 9.14 & 10 &  7.46 &  8 &  6.58\\\\\n\t  8 &  6.95 &  8 & 8.14 &  8 &  6.77 &  8 &  5.76\\\\\n\t 13 &  7.58 & 13 & 8.74 & 13 & 12.74 &  8 &  7.71\\\\\n\t  9 &  8.81 &  9 & 8.77 &  9 &  7.11 &  8 &  8.84\\\\\n\t 11 &  8.33 & 11 & 9.26 & 11 &  7.81 &  8 &  8.47\\\\\n\t 14 &  9.96 & 14 & 8.10 & 14 &  8.84 &  8 &  7.04\\\\\n\t  6 &  7.24 &  6 & 6.13 &  6 &  6.08 &  8 &  5.25\\\\\n\t  4 &  4.26 &  4 & 3.10 &  4 &  5.39 & 19 & 12.50\\\\\n\t 12 & 10.84 & 12 & 9.13 & 12 &  8.15 &  8 &  5.56\\\\\n\t  7 &  4.82 &  7 & 7.26 &  7 &  6.42 &  8 &  7.91\\\\\n\t  5 &  5.68 &  5 & 4.74 &  5 &  5.73 &  8 &  6.89\\\\\n\\end{tabular}\n",
            "text/markdown": "\nA data.frame: 11 × 8\n\n| X1 &lt;dbl&gt; | Y1 &lt;dbl&gt; | X2 &lt;dbl&gt; | Y2 &lt;dbl&gt; | X3 &lt;dbl&gt; | Y3 &lt;dbl&gt; | X4 &lt;dbl&gt; | Y4 &lt;dbl&gt; |\n|---|---|---|---|---|---|---|---|\n| 10 |  8.04 | 10 | 9.14 | 10 |  7.46 |  8 |  6.58 |\n|  8 |  6.95 |  8 | 8.14 |  8 |  6.77 |  8 |  5.76 |\n| 13 |  7.58 | 13 | 8.74 | 13 | 12.74 |  8 |  7.71 |\n|  9 |  8.81 |  9 | 8.77 |  9 |  7.11 |  8 |  8.84 |\n| 11 |  8.33 | 11 | 9.26 | 11 |  7.81 |  8 |  8.47 |\n| 14 |  9.96 | 14 | 8.10 | 14 |  8.84 |  8 |  7.04 |\n|  6 |  7.24 |  6 | 6.13 |  6 |  6.08 |  8 |  5.25 |\n|  4 |  4.26 |  4 | 3.10 |  4 |  5.39 | 19 | 12.50 |\n| 12 | 10.84 | 12 | 9.13 | 12 |  8.15 |  8 |  5.56 |\n|  7 |  4.82 |  7 | 7.26 |  7 |  6.42 |  8 |  7.91 |\n|  5 |  5.68 |  5 | 4.74 |  5 |  5.73 |  8 |  6.89 |\n\n",
            "text/html": [
              "<table class=\"dataframe\">\n",
              "<caption>A data.frame: 11 × 8</caption>\n",
              "<thead>\n",
              "\t<tr><th scope=col>X1</th><th scope=col>Y1</th><th scope=col>X2</th><th scope=col>Y2</th><th scope=col>X3</th><th scope=col>Y3</th><th scope=col>X4</th><th scope=col>Y4</th></tr>\n",
              "\t<tr><th scope=col>&lt;dbl&gt;</th><th scope=col>&lt;dbl&gt;</th><th scope=col>&lt;dbl&gt;</th><th scope=col>&lt;dbl&gt;</th><th scope=col>&lt;dbl&gt;</th><th scope=col>&lt;dbl&gt;</th><th scope=col>&lt;dbl&gt;</th><th scope=col>&lt;dbl&gt;</th></tr>\n",
              "</thead>\n",
              "<tbody>\n",
              "\t<tr><td>10</td><td> 8.04</td><td>10</td><td>9.14</td><td>10</td><td> 7.46</td><td> 8</td><td> 6.58</td></tr>\n",
              "\t<tr><td> 8</td><td> 6.95</td><td> 8</td><td>8.14</td><td> 8</td><td> 6.77</td><td> 8</td><td> 5.76</td></tr>\n",
              "\t<tr><td>13</td><td> 7.58</td><td>13</td><td>8.74</td><td>13</td><td>12.74</td><td> 8</td><td> 7.71</td></tr>\n",
              "\t<tr><td> 9</td><td> 8.81</td><td> 9</td><td>8.77</td><td> 9</td><td> 7.11</td><td> 8</td><td> 8.84</td></tr>\n",
              "\t<tr><td>11</td><td> 8.33</td><td>11</td><td>9.26</td><td>11</td><td> 7.81</td><td> 8</td><td> 8.47</td></tr>\n",
              "\t<tr><td>14</td><td> 9.96</td><td>14</td><td>8.10</td><td>14</td><td> 8.84</td><td> 8</td><td> 7.04</td></tr>\n",
              "\t<tr><td> 6</td><td> 7.24</td><td> 6</td><td>6.13</td><td> 6</td><td> 6.08</td><td> 8</td><td> 5.25</td></tr>\n",
              "\t<tr><td> 4</td><td> 4.26</td><td> 4</td><td>3.10</td><td> 4</td><td> 5.39</td><td>19</td><td>12.50</td></tr>\n",
              "\t<tr><td>12</td><td>10.84</td><td>12</td><td>9.13</td><td>12</td><td> 8.15</td><td> 8</td><td> 5.56</td></tr>\n",
              "\t<tr><td> 7</td><td> 4.82</td><td> 7</td><td>7.26</td><td> 7</td><td> 6.42</td><td> 8</td><td> 7.91</td></tr>\n",
              "\t<tr><td> 5</td><td> 5.68</td><td> 5</td><td>4.74</td><td> 5</td><td> 5.73</td><td> 8</td><td> 6.89</td></tr>\n",
              "</tbody>\n",
              "</table>\n"
            ]
          },
          "metadata": {}
        }
      ]
    },
    {
      "cell_type": "markdown",
      "source": [
        "### 2. 요약통계값 확인(Summary Statistics)"
      ],
      "metadata": {
        "id": "jZVX-SP10eu8"
      }
    },
    {
      "cell_type": "code",
      "source": [
        "Number_of_data = c(length(data$X1),length(data$X2),length(data$X3))\n",
        "Mean_X = c(mean(data$X1), mean(data$X2), mean(data$X3))\n",
        "Mean_Y = c(mean(data$Y1), mean(data$Y2), mean(data$Y3))\n",
        "Correlation = c(cor(data$X1, data$Y1),cor(data$X2, data$Y2),cor(data$X3, data$Y3))\n",
        "fit1=lm(Y1~X1, data);fit2=lm(Y2~X2, data);fit3=lm(Y3~X3, data)\n",
        "Intercept = c(fit1$coefficients[1],fit2$coefficients[1],fit3$coefficients[1])\n",
        "Slope = c(fit1$coefficients[2],fit2$coefficients[2],fit3$coefficients[2])\n",
        "Summary = rbind(Number_of_data, Mean_X, Mean_Y, Correlation, Intercept, Slope)\n",
        "colnames(Summary) = c(\"X1_Y1\", \"X2_Y2\", \"X3_Y3\")\n",
        "data.frame(Summary)"
      ],
      "metadata": {
        "colab": {
          "base_uri": "https://localhost:8080/",
          "height": 286
        },
        "id": "lDwwYCzU0qXx",
        "outputId": "9a3ba2cf-1919-4d3e-bb88-340d5948893c"
      },
      "execution_count": 105,
      "outputs": [
        {
          "output_type": "display_data",
          "data": {
            "text/plain": [
              "               X1_Y1      X2_Y2      X3_Y3     \n",
              "Number_of_data 11.0000000 11.0000000 11.0000000\n",
              "Mean_X          9.0000000  9.0000000  9.0000000\n",
              "Mean_Y          7.5009091  7.5009091  7.5000000\n",
              "Correlation     0.8164205  0.8162365  0.8162867\n",
              "Intercept       3.0000909  3.0009091  3.0024545\n",
              "Slope           0.5000909  0.5000000  0.4997273"
            ],
            "text/latex": "A data.frame: 6 × 3\n\\begin{tabular}{r|lll}\n  & X1\\_Y1 & X2\\_Y2 & X3\\_Y3\\\\\n  & <dbl> & <dbl> & <dbl>\\\\\n\\hline\n\tNumber\\_of\\_data & 11.0000000 & 11.0000000 & 11.0000000\\\\\n\tMean\\_X &  9.0000000 &  9.0000000 &  9.0000000\\\\\n\tMean\\_Y &  7.5009091 &  7.5009091 &  7.5000000\\\\\n\tCorrelation &  0.8164205 &  0.8162365 &  0.8162867\\\\\n\tIntercept &  3.0000909 &  3.0009091 &  3.0024545\\\\\n\tSlope &  0.5000909 &  0.5000000 &  0.4997273\\\\\n\\end{tabular}\n",
            "text/markdown": "\nA data.frame: 6 × 3\n\n| <!--/--> | X1_Y1 &lt;dbl&gt; | X2_Y2 &lt;dbl&gt; | X3_Y3 &lt;dbl&gt; |\n|---|---|---|---|\n| Number_of_data | 11.0000000 | 11.0000000 | 11.0000000 |\n| Mean_X |  9.0000000 |  9.0000000 |  9.0000000 |\n| Mean_Y |  7.5009091 |  7.5009091 |  7.5000000 |\n| Correlation |  0.8164205 |  0.8162365 |  0.8162867 |\n| Intercept |  3.0000909 |  3.0009091 |  3.0024545 |\n| Slope |  0.5000909 |  0.5000000 |  0.4997273 |\n\n",
            "text/html": [
              "<table class=\"dataframe\">\n",
              "<caption>A data.frame: 6 × 3</caption>\n",
              "<thead>\n",
              "\t<tr><th></th><th scope=col>X1_Y1</th><th scope=col>X2_Y2</th><th scope=col>X3_Y3</th></tr>\n",
              "\t<tr><th></th><th scope=col>&lt;dbl&gt;</th><th scope=col>&lt;dbl&gt;</th><th scope=col>&lt;dbl&gt;</th></tr>\n",
              "</thead>\n",
              "<tbody>\n",
              "\t<tr><th scope=row>Number_of_data</th><td>11.0000000</td><td>11.0000000</td><td>11.0000000</td></tr>\n",
              "\t<tr><th scope=row>Mean_X</th><td> 9.0000000</td><td> 9.0000000</td><td> 9.0000000</td></tr>\n",
              "\t<tr><th scope=row>Mean_Y</th><td> 7.5009091</td><td> 7.5009091</td><td> 7.5000000</td></tr>\n",
              "\t<tr><th scope=row>Correlation</th><td> 0.8164205</td><td> 0.8162365</td><td> 0.8162867</td></tr>\n",
              "\t<tr><th scope=row>Intercept</th><td> 3.0000909</td><td> 3.0009091</td><td> 3.0024545</td></tr>\n",
              "\t<tr><th scope=row>Slope</th><td> 0.5000909</td><td> 0.5000000</td><td> 0.4997273</td></tr>\n",
              "</tbody>\n",
              "</table>\n"
            ]
          },
          "metadata": {}
        }
      ]
    },
    {
      "cell_type": "code",
      "source": [
        "# 데이터1의 산점도\n",
        "fig1=ggplot(data, aes(X1, Y1))+geom_point()+geom_abline(slope=0.5, intercept = 3, color=\"grey\")+ggtitle(\"Data1\")\n",
        "# 데이터2의 산점도\n",
        "fig2=ggplot(data, aes(X2, Y2))+geom_point()+geom_abline(slope=0.5, intercept = 3, color=\"grey\")+ggtitle(\"Data2\")\n",
        "# 데이터3의 산점도\n",
        "fig3=ggplot(data, aes(X3, Y3))+geom_point()+geom_abline(slope=0.5, intercept = 3, color=\"grey\")+ggtitle(\"Data3\")\n",
        "# 데이터4의 산점도\n",
        "fig4=ggplot(data, aes(X4, Y4))+geom_point()+geom_abline(slope=0.5, intercept = 3, color=\"grey\")+ggtitle(\"Data4\")\n",
        "# 산점도 4개를 한 화면에 출력\n",
        "(fig1+fig2)/(fig3+fig4)"
      ],
      "metadata": {
        "colab": {
          "base_uri": "https://localhost:8080/",
          "height": 437
        },
        "id": "b0twE6fE29qy",
        "outputId": "4ac78111-8612-44e9-88e7-10116bd56945"
      },
      "execution_count": 99,
      "outputs": [
        {
          "output_type": "display_data",
          "data": {
            "image/png": "[encoded data removed]",
            "text/plain": [
              "plot without title"
            ]
          },
          "metadata": {
            "image/png": {
              "width": 420,
              "height": 420
            }
          }
        }
      ]
    }
  ]
}